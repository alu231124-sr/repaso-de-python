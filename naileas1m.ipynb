{
  "nbformat": 4,
  "nbformat_minor": 0,
  "metadata": {
    "colab": {
      "provenance": [],
      "authorship_tag": "ABX9TyNYhUHnKQfllTxVENm+9Rog",
      "include_colab_link": true
    },
    "kernelspec": {
      "name": "python3",
      "display_name": "Python 3"
    },
    "language_info": {
      "name": "python"
    }
  },
  "cells": [
    {
      "cell_type": "markdown",
      "metadata": {
        "id": "view-in-github",
        "colab_type": "text"
      },
      "source": [
        "<a href=\"https://colab.research.google.com/github/alu231124-sr/repaso-de-python/blob/main/naileas1m.ipynb\" target=\"_parent\"><img src=\"https://colab.research.google.com/assets/colab-badge.svg\" alt=\"Open In Colab\"/></a>"
      ]
    },
    {
      "cell_type": "code",
      "execution_count": 1,
      "metadata": {
        "colab": {
          "base_uri": "https://localhost:8080/"
        },
        "id": "Y4zRLYFs-5lz",
        "outputId": "37f58a62-af9d-4351-bd95-005a57da8ff6"
      },
      "outputs": [
        {
          "output_type": "stream",
          "name": "stdout",
          "text": [
            "Escribe tu nombre: nailea salas\n",
            "Bienvenido!!\n",
            "Tu nhombre es:, capturanombre)\n"
          ]
        }
      ],
      "source": [
        "capturaNombre = input(\"Escribe tu nombre: \")\n",
        "print(\"Bienvenido!!\")\n",
        "print(\"Tu nhombre es:, capturanombre)\")"
      ]
    },
    {
      "cell_type": "markdown",
      "source": [
        "realixzr un programa que permita capturar tu nombre y lo mimprima de una bienvenida"
      ],
      "metadata": {
        "id": "evz6BNr2_PPc"
      }
    },
    {
      "cell_type": "markdown",
      "source": [],
      "metadata": {
        "id": "MaVLhPCFAlhU"
      }
    },
    {
      "cell_type": "markdown",
      "source": [],
      "metadata": {
        "id": "R3mKf0lL_if0"
      }
    },
    {
      "cell_type": "markdown",
      "source": [],
      "metadata": {
        "id": "K7pd9wpe_3I9"
      }
    },
    {
      "cell_type": "markdown",
      "source": [
        "realizar un programa que permita capturar dos numeros enteros que e emprima la suma,la resta,la multiplicacion y loa divisi8on entre elloos."
      ],
      "metadata": {
        "id": "thEAj0HIConF"
      }
    },
    {
      "cell_type": "code",
      "source": [
        "num1=int(input(\"captura el 1 numero\"))\n",
        "num2=int(input(\"captura el 2 numero\"))\n",
        "suma=num1+num2\n",
        "resta=num1-num2\n",
        "multiplicacion=num1*num2\n",
        "division=num1/num2\n",
        "print(\"La suma es:\", suma)\n",
        "print(\"La resta es:\", resta)\n",
        "print(\"La multiplicacion es:\", multiplicacion)\n",
        "print(\"La division es:\", division)\n",
        "\n",
        "\n",
        "\n",
        "\n",
        "\n"
      ],
      "metadata": {
        "colab": {
          "base_uri": "https://localhost:8080/"
        },
        "id": "JyUbvq7LDAZE",
        "outputId": "95be2a8b-8c04-4f30-8db2-ccbd9a592d11"
      },
      "execution_count": 11,
      "outputs": [
        {
          "output_type": "stream",
          "name": "stdout",
          "text": [
            "captura el 1 numero23\n",
            "captura el 2 numero45\n",
            "La suma es: 68\n",
            "La resta es: -22\n",
            "La multiplicacion es: 1035\n",
            "La division es: 0.5111111111111111\n"
          ]
        }
      ]
    }
  ]
}