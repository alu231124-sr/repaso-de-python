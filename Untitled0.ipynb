{
  "nbformat": 4,
  "nbformat_minor": 0,
  "metadata": {
    "colab": {
      "provenance": [],
      "authorship_tag": "ABX9TyO28ARok+t+UbltN00OJfeW",
      "include_colab_link": true
    },
    "kernelspec": {
      "name": "python3",
      "display_name": "Python 3"
    },
    "language_info": {
      "name": "python"
    }
  },
  "cells": [
    {
      "cell_type": "markdown",
      "metadata": {
        "id": "view-in-github",
        "colab_type": "text"
      },
      "source": [
        "<a href=\"https://colab.research.google.com/github/alu231124-sr/repaso-de-python/blob/main/Untitled0.ipynb\" target=\"_parent\"><img src=\"https://colab.research.google.com/assets/colab-badge.svg\" alt=\"Open In Colab\"/></a>"
      ]
    },
    {
      "cell_type": "code",
      "execution_count": null,
      "metadata": {
        "id": "JU6uCW4TAZQm"
      },
      "outputs": [],
      "source": [
        "Realizar un programa en python que te permita capturar 3 números enteros e imprima cual de los 3 es el mayor"
      ]
    },
    {
      "cell_type": "code",
      "source": [
        "def encontrar_mayor():\n",
        "  num1=int(input(\"ingresa el primer numero:\"))\n",
        "  num2=int(input(\"ingresa el segundo numero:\"))\n",
        "  num3=int(input(\"ingresa el tercer numero:\"))\n",
        "\n",
        "  mayor =max(num1,num2,num3)\n",
        "\n",
        "  print(f\"el numero mayor es:{mayor}\")\n",
        "\n",
        "encontrar_mayor()\n",
        "\n",
        "\n"
      ],
      "metadata": {
        "colab": {
          "base_uri": "https://localhost:8080/"
        },
        "id": "enAbcf_SAlz8",
        "outputId": "b2b0a7f3-1976-418b-aaa3-37868ea382d9"
      },
      "execution_count": 2,
      "outputs": [
        {
          "output_type": "stream",
          "name": "stdout",
          "text": [
            "ingresa el primer numero:19\n",
            "ingresa el segundo numero:45\n",
            "ingresa el tercer numero:34\n",
            "el numero mayor es:45\n"
          ]
        }
      ]
    },
    {
      "cell_type": "code",
      "source": [
        "Realizar un programa en python mediante el cual calcules el total de caracteres que tiene un nombre capturado desde el teclado.\n"
      ],
      "metadata": {
        "id": "5x_kmzn0EUq_"
      },
      "execution_count": null,
      "outputs": []
    },
    {
      "cell_type": "code",
      "source": [
        "CapturarNombre = input(\"capturar nombre:\" )\n",
        "print(\"el nombre tiene: \", len(CapturarNombre), \"caracteres\")\n"
      ],
      "metadata": {
        "colab": {
          "base_uri": "https://localhost:8080/"
        },
        "id": "og8j-5MBEYy2",
        "outputId": "a7b15aab-1715-47f8-b849-c6b3388ac28e"
      },
      "execution_count": 6,
      "outputs": [
        {
          "output_type": "stream",
          "name": "stdout",
          "text": [
            "capturar nombre:nailea\n",
            "el nombre tiene:  6 caracteres\n"
          ]
        }
      ]
    },
    {
      "cell_type": "code",
      "source": [
        "Realizar un programa en python que permita imprimir los 7 días de la semana.\n"
      ],
      "metadata": {
        "id": "VOmEaBvQHATL"
      },
      "execution_count": null,
      "outputs": []
    },
    {
      "cell_type": "code",
      "source": [
        "print(\"lunes\")\n",
        "print(\"martes\")\n",
        "print(\"miercoles\")\n",
        "print(\"jueves\")\n",
        "print(\"viernes\")\n",
        "print(\"sabado\")\n",
        "print(\"domingo\")\n"
      ],
      "metadata": {
        "colab": {
          "base_uri": "https://localhost:8080/"
        },
        "id": "qjNQuuPpHElC",
        "outputId": "e51ed26c-6339-4497-d928-c35f86002f96"
      },
      "execution_count": 7,
      "outputs": [
        {
          "output_type": "stream",
          "name": "stdout",
          "text": [
            "lunes\n",
            "martes\n",
            "miercoles\n",
            "jueves\n",
            "viernes\n",
            "sabado\n",
            "domingo\n"
          ]
        }
      ]
    }
  ]
}